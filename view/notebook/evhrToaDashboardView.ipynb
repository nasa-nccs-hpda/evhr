{
 "cells": [
  {
   "cell_type": "code",
   "execution_count": 1,
   "id": "fcbc7bda-34fa-4db0-9b66-a9a6ce1dc9a6",
   "metadata": {},
   "outputs": [],
   "source": [
    "import sys\n",
    "sys.path.append('/explore/nobackup/people/cssprad1/projects/evhr/notebook_view/evhr')\n",
    "\n",
    "from evhr.model.EvhrNotebook import EvhrDashboard"
   ]
  },
  {
   "cell_type": "code",
   "execution_count": 2,
   "id": "a5f32900-0ddf-40a4-8401-ecb8cc48bfa4",
   "metadata": {},
   "outputs": [
    {
     "name": "stdout",
     "output_type": "stream",
     "text": [
      "2546010 render\n"
     ]
    },
    {
     "data": {
      "application/vnd.jupyter.widget-view+json": {
       "model_id": "d81534ed36ed46bbb7ac87c46703cf82",
       "version_major": 2,
       "version_minor": 0
      },
      "text/plain": [
       "VBox(children=(VBox(children=(HTML(value='<h1><b>EVHR File Chooser and Visualizer</b><h1>'), FileChooser(path=…"
      ]
     },
     "metadata": {},
     "output_type": "display_data"
    }
   ],
   "source": [
    "EvhrDashboard().render()"
   ]
  },
  {
   "cell_type": "code",
   "execution_count": null,
   "id": "f9943a25-c335-4d45-9477-d2f4538d0405",
   "metadata": {},
   "outputs": [],
   "source": []
  }
 ],
 "metadata": {
  "kernelspec": {
   "display_name": "ILAB Kernel (Pytorch)",
   "language": "python",
   "name": "pytorch-kernel"
  },
  "language_info": {
   "codemirror_mode": {
    "name": "ipython",
    "version": 3
   },
   "file_extension": ".py",
   "mimetype": "text/x-python",
   "name": "python",
   "nbconvert_exporter": "python",
   "pygments_lexer": "ipython3",
   "version": "3.9.15"
  }
 },
 "nbformat": 4,
 "nbformat_minor": 5
}
