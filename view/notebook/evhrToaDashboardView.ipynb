{
 "cells": [
  {
   "cell_type": "code",
   "execution_count": 1,
   "id": "fcbc7bda-34fa-4db0-9b66-a9a6ce1dc9a6",
   "metadata": {},
   "outputs": [],
   "source": [
    "import sys\n",
    "sys.path.append('/explore/nobackup/people/cssprad1/projects/evhr/notebook_view/evhr')\n",
    "sys.path.append('/explore/nobackup/people/cssprad1/projects/evhr/notebook_view/core')\n",
    "from evhr.view.notebook.EvhrToaDashboard import EvhrToaDashboard"
   ]
  },
  {
   "cell_type": "code",
   "execution_count": 2,
   "id": "a5f32900-0ddf-40a4-8401-ecb8cc48bfa4",
   "metadata": {},
   "outputs": [
    {
     "data": {
      "application/vnd.jupyter.widget-view+json": {
       "model_id": "071291cf71b94d2990a69cf5bee68a2f",
       "version_major": 2,
       "version_minor": 0
      },
      "text/plain": [
       "VBox(children=(VBox(children=(HTML(value='<h1><b>EVHR File Chooser and Visualizer</b><h1>'), FileChooser(path=…"
      ]
     },
     "metadata": {},
     "output_type": "display_data"
    }
   ],
   "source": [
    "EvhrToaDashboard().render()"
   ]
  }
 ],
 "metadata": {
  "kernelspec": {
   "display_name": "ILAB Kernel (Pytorch)",
   "language": "python",
   "name": "pytorch-kernel"
  },
  "language_info": {
   "codemirror_mode": {
    "name": "ipython",
    "version": 3
   },
   "file_extension": ".py",
   "mimetype": "text/x-python",
   "name": "python",
   "nbconvert_exporter": "python",
   "pygments_lexer": "ipython3",
   "version": "3.9.15"
  }
 },
 "nbformat": 4,
 "nbformat_minor": 5
}
