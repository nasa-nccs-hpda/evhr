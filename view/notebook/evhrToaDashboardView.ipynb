{
 "cells": [
  {
   "cell_type": "code",
   "execution_count": 2,
   "id": "fcbc7bda-34fa-4db0-9b66-a9a6ce1dc9a6",
   "metadata": {},
   "outputs": [],
   "source": [
    "import sys\n",
    "\n",
    "sys.path.append('../../../')\n",
    "\n",
    "from evhr.view.notebook.EvhrToaDashboard import EvhrToaDashboard"
   ]
  },
  {
   "cell_type": "code",
   "execution_count": 3,
   "id": "a5f32900-0ddf-40a4-8401-ecb8cc48bfa4",
   "metadata": {},
   "outputs": [
    {
     "data": {
      "application/vnd.jupyter.widget-view+json": {
       "model_id": "4e11efecea1744e999544e99674dddc4",
       "version_major": 2,
       "version_minor": 0
      },
      "text/plain": [
       "VBox(children=(VBox(children=(HTML(value='<h1><b>Enhanced Very-High-Resolution TOA Dashboard</b><h1>'), FileCh…"
      ]
     },
     "metadata": {},
     "output_type": "display_data"
    }
   ],
   "source": [
    "EvhrToaDashboard().render()"
   ]
  },
  {
   "cell_type": "code",
   "execution_count": null,
   "id": "4786b07d-6f02-4b67-9492-e0353097b79a",
   "metadata": {},
   "outputs": [],
   "source": []
  }
 ],
 "metadata": {
  "kernelspec": {
   "display_name": "ILAB Kernel (Pytorch)",
   "language": "python",
   "name": "pytorch-kernel"
  },
  "language_info": {
   "codemirror_mode": {
    "name": "ipython",
    "version": 3
   },
   "file_extension": ".py",
   "mimetype": "text/x-python",
   "name": "python",
   "nbconvert_exporter": "python",
   "pygments_lexer": "ipython3",
   "version": "3.9.15"
  }
 },
 "nbformat": 4,
 "nbformat_minor": 5
}
